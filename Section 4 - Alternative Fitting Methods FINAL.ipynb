{
 "cells": [
  {
   "cell_type": "markdown",
   "id": "ce6f0146",
   "metadata": {},
   "source": [
    "We now employ an alternative fitting method based on numerical optimization on the data simulated in the previous section"
   ]
  },
  {
   "cell_type": "markdown",
   "id": "5ba615ff",
   "metadata": {},
   "source": [
    "Imports:"
   ]
  },
  {
   "cell_type": "code",
   "execution_count": 1,
   "id": "53d97067",
   "metadata": {},
   "outputs": [],
   "source": [
    "import numpy as np\n",
    "import numpy.linalg as npl\n",
    "import pandas as pd\n",
    "import matplotlib.pyplot as plt\n",
    "%matplotlib inline\n",
    "\n",
    "from scipy.integrate import solve_ivp"
   ]
  },
  {
   "cell_type": "markdown",
   "id": "d1a76c46",
   "metadata": {},
   "source": [
    "Actual data (for comparison later)"
   ]
  },
  {
   "cell_type": "code",
   "execution_count": 2,
   "id": "addaa5fc",
   "metadata": {},
   "outputs": [],
   "source": [
    "actual_times=np.array([7,14,21])\n",
    "actual_data=np.array([\n",
    "    [85.2,11.,2.8],\n",
    "    [40.3,26.3,28.3],\n",
    "    [35.3,31.7,29.4]\n",
    "])\n",
    "actual_data=np.transpose(np.transpose(actual_data)/np.sum(actual_data,axis=1)) # re-scales so that frequencies sum to 1\n",
    "\n",
    "equilibrium=actual_data[-1,:] #saves final data point as equilibrium\n",
    "\n",
    "K=1e7 #carrying capacity\n",
    "p=0.2 #proportion of injected cells that take hold in initial population\n",
    "n0=p*np.array([5e5,0,0])/K #initial condition\n",
    "T=24\n",
    "names=['NK','int','ILC']"
   ]
  },
  {
   "cell_type": "markdown",
   "id": "fcbcf75e",
   "metadata": {},
   "source": [
    "Import data from previous notebook"
   ]
  },
  {
   "cell_type": "code",
   "execution_count": 3,
   "id": "92038541",
   "metadata": {},
   "outputs": [],
   "source": [
    "init_params=np.array(pd.read_csv(\"init_params.csv\"))\n",
    "init_params=init_params.reshape(len(init_params))"
   ]
  },
  {
   "cell_type": "code",
   "execution_count": 4,
   "id": "c987ab16",
   "metadata": {},
   "outputs": [],
   "source": [
    "mock_df=pd.read_csv(\"mock_df.csv\")"
   ]
  },
  {
   "cell_type": "markdown",
   "id": "e7810ba3",
   "metadata": {},
   "source": [
    "Define ODE as before"
   ]
  },
  {
   "cell_type": "code",
   "execution_count": 5,
   "id": "0c23fa40",
   "metadata": {},
   "outputs": [],
   "source": [
    "def ODE(n,growth_rates,switch_rates,competition):\n",
    "    '''\n",
    "    n is number of cells (scaled) with dimension d;\n",
    "    growth_rates as d x 1 vector;\n",
    "    switch_rates as d x d matrix;\n",
    "    competition kernel as d x d matrix;\n",
    "    '''\n",
    "    dim=len(n)\n",
    "    dndt=np.zeros(dim)\n",
    "    for i in range(dim):\n",
    "        dndt[i]=n[i]*(growth_rates[i]-np.sum(switch_rates[i,:])-competition[i,:].dot(n))+switch_rates[:,i].dot(n)\n",
    "    return dndt"
   ]
  },
  {
   "cell_type": "code",
   "execution_count": 6,
   "id": "1202202d",
   "metadata": {},
   "outputs": [],
   "source": [
    "def simulate_ODE(params, n0, T):\n",
    "    growth_rates=params[:3]\n",
    "    competition=params[3:12].reshape((3,3))\n",
    "    switch_rates=np.array([\n",
    "        [0,params[12],0],\n",
    "        [0,0,params[13]],\n",
    "        [0,0,0]\n",
    "        ])\n",
    "    rhs=lambda t, n: ODE(n,growth_rates,switch_rates,competition)\n",
    "    sim=solve_ivp(rhs,(0,T),n0)\n",
    "    return sim"
   ]
  },
  {
   "cell_type": "markdown",
   "id": "1b5370e3",
   "metadata": {},
   "source": [
    "Define loss function and objective function (which is just the loss function applied to the specific data)"
   ]
  },
  {
   "cell_type": "code",
   "execution_count": 7,
   "id": "97ca5356",
   "metadata": {},
   "outputs": [],
   "source": [
    "def loss_function(params,data,timepoints,n0,T):\n",
    "    sim=simulate_ODE(params,n0,T)\n",
    "    return np.sum((data-np.array([sim['y'][:,np.argmin(abs(sim['t']-t))]for t in timepoints]))**2)"
   ]
  },
  {
   "cell_type": "code",
   "execution_count": 8,
   "id": "f0086e67",
   "metadata": {},
   "outputs": [],
   "source": [
    "mock_data_array=np.array(mock_df[names])\n",
    "mock_timepoints=np.array(mock_df['t'])"
   ]
  },
  {
   "cell_type": "code",
   "execution_count": 9,
   "id": "86475571",
   "metadata": {},
   "outputs": [],
   "source": [
    "obj=lambda params: loss_function(params,mock_data_array,mock_timepoints,n0,T)"
   ]
  },
  {
   "cell_type": "markdown",
   "id": "f8bb4ee2",
   "metadata": {},
   "source": [
    "Apply different optimization methods to achieve optimal parameter"
   ]
  },
  {
   "cell_type": "code",
   "execution_count": 10,
   "id": "31a77b07",
   "metadata": {},
   "outputs": [],
   "source": [
    "opt_bounds=[(0,None)]*14"
   ]
  },
  {
   "cell_type": "code",
   "execution_count": 11,
   "id": "ed92ef6e",
   "metadata": {},
   "outputs": [],
   "source": [
    "from scipy.optimize import minimize"
   ]
  },
  {
   "cell_type": "code",
   "execution_count": 12,
   "id": "1e179af3",
   "metadata": {
    "scrolled": true
   },
   "outputs": [
    {
     "name": "stdout",
     "output_type": "stream",
     "text": [
      "Method TNC completed.\n",
      "Method TNC completed.\n",
      "Method L-BFGS-B completed.\n",
      "Method L-BFGS-B completed.\n",
      "Method COBYLA completed.\n"
     ]
    },
    {
     "name": "stderr",
     "output_type": "stream",
     "text": [
      "C:\\Users\\carlw\\anaconda3\\lib\\site-packages\\scipy\\optimize\\_hessian_update_strategy.py:182: UserWarning: delta_grad == 0.0. Check if the approximated function is linear. If the function is linear better results can be obtained by defining the Hessian as zero instead of using quasi-Newton approximations.\n",
      "  warn('delta_grad == 0.0. Check if the approximated '\n"
     ]
    },
    {
     "name": "stdout",
     "output_type": "stream",
     "text": [
      "Method trust-constr completed.\n"
     ]
    }
   ],
   "source": [
    "theta0=np.round(init_params,0)\n",
    "colnames=['Method','Gradient approx','r_NK','r_int','r_ILC','c_NK,NK','c_NK,int','c_NK,ILC','c_int,NK','c_int,int','c_int,ILC','c_ILC,NK','c_ILC,int','c_ILC,ILC',\n",
    "         's_NK,int','s_int,ILC','Message','Success','RMSE_sim','RMSE_actual']\n",
    "opt_outputs=np.zeros(len(colnames))\n",
    "methods=['TNC','L-BFGS-B']\n",
    "jacs=['2-point','3-point']\n",
    "maxit=[99,300,300,300] #cannot get TNC with 2-point to run with more than 99 iteration. Did not find cause\n",
    "count=0\n",
    "\n",
    "for m in methods:\n",
    "    for j in jacs:\n",
    "        min_result=min_result=minimize(obj,x0=theta0,method=m,jac=j,bounds=opt_bounds,options={'maxiter':maxit[count]})\n",
    "        opt_params=min_result['x']\n",
    "        mess=min_result['message']\n",
    "        RMSE_simdata=np.sqrt(min_result['fun']/np.product(mock_data_array.shape))\n",
    "        conv_success=min_result['success']\n",
    "        sim=simulate_ODE(opt_params,n0,T)\n",
    "        RMSE_actual=np.sqrt(np.sum((actual_data-[(sim['y']/np.sum(sim['y'],axis=0))[:,np.argmin(abs(sim['t']-t))]for t in actual_times])**2)/(len(actual_times)*len(actual_data[0,:])))\n",
    "        count+=1\n",
    "        opt_outputs=np.vstack((opt_outputs,np.concatenate(([m],[j],opt_params,[mess],[conv_success],[RMSE_simdata],[RMSE_actual]))))\n",
    "        print('Method '+m+' completed.')\n",
    "\n",
    "#We run COBYLA and trust-constr method separately since the syntax is different\n",
    "methods=['COBYLA']\n",
    "for m in methods:\n",
    "    min_result=minimize(obj,x0=theta0,method=m,constraints=({'type':'ineq','fun':lambda x: x}))\n",
    "    opt_params=min_result['x']\n",
    "    mess=min_result['message']\n",
    "    RMSE_simdata=np.sqrt(min_result['fun']/np.product(mock_data_array.shape))\n",
    "    conv_success=min_result['success']\n",
    "    sim=simulate_ODE(opt_params,n0,T)\n",
    "    RMSE_actual=np.sqrt(np.sum((actual_data-[(sim['y']/np.sum(sim['y'],axis=0))[:,np.argmin(abs(sim['t']-t))]for t in actual_times])**2)/(len(actual_times)*len(actual_data[0,:])))\n",
    "    opt_outputs=np.vstack((opt_outputs,np.concatenate(([m],['Not applicable'],opt_params,[mess],[conv_success],[RMSE_simdata],[RMSE_actual]))))\n",
    "    print('Method '+m+' completed.')\n",
    "\n",
    "min_result=minimize(obj,x0=theta0,method='trust-constr',bounds=opt_bounds)\n",
    "opt_params=min_result['x']\n",
    "mess=min_result['message']\n",
    "RMSE_simdata=np.sqrt(min_result['fun']/np.product(mock_data_array.shape))\n",
    "conv_success=min_result['success']\n",
    "sim=simulate_ODE(opt_params,n0,T)\n",
    "RMSE_actual=np.sqrt(np.sum((actual_data-[(sim['y']/np.sum(sim['y'],axis=0))[:,np.argmin(abs(sim['t']-t))]for t in actual_times])**2)/(len(actual_times)*len(actual_data[0,:])))\n",
    "opt_outputs=np.vstack((opt_outputs,np.concatenate((['trust-constr'],['Not applicable'],opt_params,[mess],[conv_success],[RMSE_simdata],[RMSE_actual]))))        \n",
    "print('Method trust-constr completed.')\n",
    "\n",
    "opt_outputs_df=pd.DataFrame(opt_outputs[1:],columns=colnames)"
   ]
  },
  {
   "cell_type": "code",
   "execution_count": 13,
   "id": "aa4871f5",
   "metadata": {},
   "outputs": [],
   "source": [
    "num_cols=np.concatenate((colnames[2:16],colnames[18:]))\n",
    "for c in num_cols:\n",
    "    opt_outputs_df[c]=opt_outputs_df[c].apply(lambda x: float(x))"
   ]
  },
  {
   "cell_type": "code",
   "execution_count": 14,
   "id": "dd9d37cc",
   "metadata": {},
   "outputs": [
    {
     "data": {
      "text/html": [
       "<div>\n",
       "<style scoped>\n",
       "    .dataframe tbody tr th:only-of-type {\n",
       "        vertical-align: middle;\n",
       "    }\n",
       "\n",
       "    .dataframe tbody tr th {\n",
       "        vertical-align: top;\n",
       "    }\n",
       "\n",
       "    .dataframe thead th {\n",
       "        text-align: right;\n",
       "    }\n",
       "</style>\n",
       "<table border=\"1\" class=\"dataframe\">\n",
       "  <thead>\n",
       "    <tr style=\"text-align: right;\">\n",
       "      <th></th>\n",
       "      <th>Method</th>\n",
       "      <th>Gradient approx</th>\n",
       "      <th>r_NK</th>\n",
       "      <th>r_int</th>\n",
       "      <th>r_ILC</th>\n",
       "      <th>c_NK,NK</th>\n",
       "      <th>c_NK,int</th>\n",
       "      <th>c_NK,ILC</th>\n",
       "      <th>c_int,NK</th>\n",
       "      <th>c_int,int</th>\n",
       "      <th>c_int,ILC</th>\n",
       "      <th>c_ILC,NK</th>\n",
       "      <th>c_ILC,int</th>\n",
       "      <th>c_ILC,ILC</th>\n",
       "      <th>s_NK,int</th>\n",
       "      <th>s_int,ILC</th>\n",
       "      <th>Message</th>\n",
       "      <th>Success</th>\n",
       "      <th>RMSE_sim</th>\n",
       "      <th>RMSE_actual</th>\n",
       "    </tr>\n",
       "  </thead>\n",
       "  <tbody>\n",
       "    <tr>\n",
       "      <th>0</th>\n",
       "      <td>TNC</td>\n",
       "      <td>2-point</td>\n",
       "      <td>1.011180</td>\n",
       "      <td>1.001687</td>\n",
       "      <td>1.003941</td>\n",
       "      <td>2.898922</td>\n",
       "      <td>0.000000</td>\n",
       "      <td>0.000000</td>\n",
       "      <td>0.013321</td>\n",
       "      <td>3.028572</td>\n",
       "      <td>0.000000</td>\n",
       "      <td>0.000000</td>\n",
       "      <td>1.000946</td>\n",
       "      <td>3.003094</td>\n",
       "      <td>0.000122</td>\n",
       "      <td>0.001102</td>\n",
       "      <td>Max. number of function evaluations reached</td>\n",
       "      <td>False</td>\n",
       "      <td>0.088809</td>\n",
       "      <td>0.126083</td>\n",
       "    </tr>\n",
       "    <tr>\n",
       "      <th>1</th>\n",
       "      <td>TNC</td>\n",
       "      <td>3-point</td>\n",
       "      <td>1.032314</td>\n",
       "      <td>1.078824</td>\n",
       "      <td>1.094140</td>\n",
       "      <td>2.757140</td>\n",
       "      <td>0.003950</td>\n",
       "      <td>0.000000</td>\n",
       "      <td>0.011833</td>\n",
       "      <td>3.209414</td>\n",
       "      <td>0.022479</td>\n",
       "      <td>0.006716</td>\n",
       "      <td>0.909411</td>\n",
       "      <td>2.743649</td>\n",
       "      <td>0.001324</td>\n",
       "      <td>0.009723</td>\n",
       "      <td>Converged (|f_n-f_(n-1)| ~= 0)</td>\n",
       "      <td>True</td>\n",
       "      <td>0.024391</td>\n",
       "      <td>0.056109</td>\n",
       "    </tr>\n",
       "    <tr>\n",
       "      <th>2</th>\n",
       "      <td>L-BFGS-B</td>\n",
       "      <td>2-point</td>\n",
       "      <td>1.106867</td>\n",
       "      <td>0.968572</td>\n",
       "      <td>1.130912</td>\n",
       "      <td>2.971451</td>\n",
       "      <td>0.008926</td>\n",
       "      <td>0.006007</td>\n",
       "      <td>0.011786</td>\n",
       "      <td>3.012934</td>\n",
       "      <td>0.008738</td>\n",
       "      <td>0.000000</td>\n",
       "      <td>0.952133</td>\n",
       "      <td>2.964323</td>\n",
       "      <td>0.002623</td>\n",
       "      <td>0.004917</td>\n",
       "      <td>ABNORMAL_TERMINATION_IN_LNSRCH</td>\n",
       "      <td>False</td>\n",
       "      <td>0.023368</td>\n",
       "      <td>0.039772</td>\n",
       "    </tr>\n",
       "    <tr>\n",
       "      <th>3</th>\n",
       "      <td>L-BFGS-B</td>\n",
       "      <td>3-point</td>\n",
       "      <td>1.089171</td>\n",
       "      <td>0.967915</td>\n",
       "      <td>1.053637</td>\n",
       "      <td>2.974817</td>\n",
       "      <td>0.000000</td>\n",
       "      <td>0.000000</td>\n",
       "      <td>0.010264</td>\n",
       "      <td>3.008367</td>\n",
       "      <td>0.003782</td>\n",
       "      <td>0.000007</td>\n",
       "      <td>0.980736</td>\n",
       "      <td>2.986493</td>\n",
       "      <td>0.002375</td>\n",
       "      <td>0.029507</td>\n",
       "      <td>ABNORMAL_TERMINATION_IN_LNSRCH</td>\n",
       "      <td>False</td>\n",
       "      <td>0.031847</td>\n",
       "      <td>0.034856</td>\n",
       "    </tr>\n",
       "    <tr>\n",
       "      <th>4</th>\n",
       "      <td>COBYLA</td>\n",
       "      <td>Not applicable</td>\n",
       "      <td>1.021910</td>\n",
       "      <td>0.897125</td>\n",
       "      <td>1.039799</td>\n",
       "      <td>2.815926</td>\n",
       "      <td>0.000115</td>\n",
       "      <td>0.003508</td>\n",
       "      <td>0.014116</td>\n",
       "      <td>3.029431</td>\n",
       "      <td>0.078350</td>\n",
       "      <td>0.063534</td>\n",
       "      <td>1.046714</td>\n",
       "      <td>3.002975</td>\n",
       "      <td>0.004856</td>\n",
       "      <td>0.012365</td>\n",
       "      <td>Optimization terminated successfully.</td>\n",
       "      <td>True</td>\n",
       "      <td>0.033565</td>\n",
       "      <td>0.072485</td>\n",
       "    </tr>\n",
       "    <tr>\n",
       "      <th>5</th>\n",
       "      <td>trust-constr</td>\n",
       "      <td>Not applicable</td>\n",
       "      <td>1.481480</td>\n",
       "      <td>2.693152</td>\n",
       "      <td>0.054358</td>\n",
       "      <td>5.436847</td>\n",
       "      <td>2.727398</td>\n",
       "      <td>2.790813</td>\n",
       "      <td>2.749400</td>\n",
       "      <td>5.245472</td>\n",
       "      <td>2.324920</td>\n",
       "      <td>2.710113</td>\n",
       "      <td>2.200409</td>\n",
       "      <td>6.073141</td>\n",
       "      <td>5.516193</td>\n",
       "      <td>1.145878</td>\n",
       "      <td>`xtol` termination condition is satisfied.</td>\n",
       "      <td>True</td>\n",
       "      <td>0.212506</td>\n",
       "      <td>0.421462</td>\n",
       "    </tr>\n",
       "  </tbody>\n",
       "</table>\n",
       "</div>"
      ],
      "text/plain": [
       "         Method Gradient approx      r_NK     r_int     r_ILC   c_NK,NK  \\\n",
       "0           TNC         2-point  1.011180  1.001687  1.003941  2.898922   \n",
       "1           TNC         3-point  1.032314  1.078824  1.094140  2.757140   \n",
       "2      L-BFGS-B         2-point  1.106867  0.968572  1.130912  2.971451   \n",
       "3      L-BFGS-B         3-point  1.089171  0.967915  1.053637  2.974817   \n",
       "4        COBYLA  Not applicable  1.021910  0.897125  1.039799  2.815926   \n",
       "5  trust-constr  Not applicable  1.481480  2.693152  0.054358  5.436847   \n",
       "\n",
       "   c_NK,int  c_NK,ILC  c_int,NK  c_int,int  c_int,ILC  c_ILC,NK  c_ILC,int  \\\n",
       "0  0.000000  0.000000  0.013321   3.028572   0.000000  0.000000   1.000946   \n",
       "1  0.003950  0.000000  0.011833   3.209414   0.022479  0.006716   0.909411   \n",
       "2  0.008926  0.006007  0.011786   3.012934   0.008738  0.000000   0.952133   \n",
       "3  0.000000  0.000000  0.010264   3.008367   0.003782  0.000007   0.980736   \n",
       "4  0.000115  0.003508  0.014116   3.029431   0.078350  0.063534   1.046714   \n",
       "5  2.727398  2.790813  2.749400   5.245472   2.324920  2.710113   2.200409   \n",
       "\n",
       "   c_ILC,ILC  s_NK,int  s_int,ILC  \\\n",
       "0   3.003094  0.000122   0.001102   \n",
       "1   2.743649  0.001324   0.009723   \n",
       "2   2.964323  0.002623   0.004917   \n",
       "3   2.986493  0.002375   0.029507   \n",
       "4   3.002975  0.004856   0.012365   \n",
       "5   6.073141  5.516193   1.145878   \n",
       "\n",
       "                                       Message Success  RMSE_sim  RMSE_actual  \n",
       "0  Max. number of function evaluations reached   False  0.088809     0.126083  \n",
       "1               Converged (|f_n-f_(n-1)| ~= 0)    True  0.024391     0.056109  \n",
       "2               ABNORMAL_TERMINATION_IN_LNSRCH   False  0.023368     0.039772  \n",
       "3               ABNORMAL_TERMINATION_IN_LNSRCH   False  0.031847     0.034856  \n",
       "4        Optimization terminated successfully.    True  0.033565     0.072485  \n",
       "5   `xtol` termination condition is satisfied.    True  0.212506     0.421462  "
      ]
     },
     "execution_count": 14,
     "metadata": {},
     "output_type": "execute_result"
    }
   ],
   "source": [
    "opt_outputs_df"
   ]
  },
  {
   "cell_type": "markdown",
   "id": "882c068c",
   "metadata": {},
   "source": [
    "Choose the parameter vector from the output which minimizes the objective function. Simulate system with these parameters and the parameters from the varied growth rates model from the previous section, and compare:"
   ]
  },
  {
   "cell_type": "code",
   "execution_count": 15,
   "id": "aa95c8da",
   "metadata": {},
   "outputs": [],
   "source": [
    "opt_params=np.array(opt_outputs_df.iloc[np.argmin(opt_outputs_df['RMSE_sim']),2:16])\n",
    "sim=simulate_ODE(opt_params,n0,T)\n",
    "sim2=simulate_ODE(init_params,n0,T)\n",
    "RMSE_sim=np.min(opt_outputs_df['RMSE_sim'])\n",
    "RMSE_sim2=np.sqrt(obj(init_params)/np.product(mock_data_array.shape))\n",
    "RMSE=np.sqrt(np.sum((actual_data-[(sim['y']/np.sum(sim['y'],axis=0))[:,np.argmin(abs(sim['t']-t))]for t in actual_times])**2)/(len(actual_times)*len(actual_data[0,:])))\n",
    "RMSE2=np.sqrt(np.sum((actual_data-[(sim2['y']/np.sum(sim2['y'],axis=0))[:,np.argmin(abs(sim2['t']-t))]for t in actual_times])**2)/(len(actual_times)*len(actual_data[0,:])))"
   ]
  },
  {
   "cell_type": "code",
   "execution_count": 16,
   "id": "a1320a12",
   "metadata": {},
   "outputs": [
    {
     "data": {
      "image/png": "[encoded data removed]",
      "text/plain": [
       "<Figure size 1080x360 with 2 Axes>"
      ]
     },
     "metadata": {
      "needs_background": "light"
     },
     "output_type": "display_data"
    }
   ],
   "source": [
    "sim=simulate_ODE(opt_params,n0,T)\n",
    "sim2=simulate_ODE(init_params,n0,T)\n",
    "colors=['tab:blue','tab:orange','tab:green']\n",
    "\n",
    "fig, axs=plt.subplots(1,2)\n",
    "fig.set_figheight(5)\n",
    "fig.set_figwidth(15)\n",
    "for i in range(3):\n",
    "    axs[0].plot(sim['t'],sim['y'][i],label=names[i],color=colors[i])\n",
    "    axs[0].plot(sim2['t'],sim2['y'][i],color=colors[i],linestyle='dashed')\n",
    "    axs[0].scatter(mock_timepoints,mock_data_array[:,i],marker='o')  \n",
    "axs[0].legend()\n",
    "axs[0].set_xlabel('Time (days)')\n",
    "axs[0].set_ylabel('Cell numbers rescaled by $K$')\n",
    "axs[0].set_title('Comparison of fitting approaches on simulated data')\n",
    "axs[0].text(15,0.15,'RMSE opt=%f'%(RMSE_sim))\n",
    "axs[0].text(15,0.1,'RMSE eq=%f'%(RMSE_sim2))\n",
    "\n",
    "for i in range(3):\n",
    "    axs[1].plot(sim['t'],100*(sim['y']/np.sum(sim['y'],axis=0))[i],label=names[i],color=colors[i])\n",
    "    axs[1].plot(sim2['t'],100*(sim2['y']/np.sum(sim2['y'],axis=0))[i],color=colors[i],linestyle='dashed')\n",
    "    axs[1].scatter(actual_times,100*actual_data[:,i],marker='o')\n",
    "axs[1].legend()\n",
    "axs[1].set_xlabel('Time (days)')\n",
    "axs[1].set_ylabel('Cell frequency (%)')\n",
    "axs[1].set_title('Comparison of fitting approaches on actual data')\n",
    "axs[1].text(15,50,'RMSE opt=%f'%(RMSE))\n",
    "axs[1].text(15,20,'RMSE eq=%f'%(RMSE2))\n",
    "plt.show()"
   ]
  }
 ],
 "metadata": {
  "kernelspec": {
   "display_name": "Python 3",
   "language": "python",
   "name": "python3"
  },
  "language_info": {
   "codemirror_mode": {
    "name": "ipython",
    "version": 3
   },
   "file_extension": ".py",
   "mimetype": "text/x-python",
   "name": "python",
   "nbconvert_exporter": "python",
   "pygments_lexer": "ipython3",
   "version": "3.8.8"
  }
 },
 "nbformat": 4,
 "nbformat_minor": 5
}
